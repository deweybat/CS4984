{
 "cells": [
  {
   "cell_type": "markdown",
   "metadata": {},
   "source": [
    "# Using SAGE\n",
    "\n",
    "This notebook shows how to use SAGE to identify author-specific keywords, using a dataset in the format of word count statistics. The dataset is from [Ted Underwood](https://tedunderwood.com/open-data/), and the relevant subsets are included as [releases](https://github.com/jacobeisenstein/SAGE/releases/tag/data) in this repository.\n",
    "\n",
    "If you use SAGE, please cite [the paper](http://www.icml-2011.org/papers/534_icmlpaper.pdf):\n",
    "\n",
    "```Eisenstein, Jacob, Amr Ahmed, and Eric P. Xing. \"Sparse Additive Generative Models of Text.\" Proceedings of the 28th International Conference on Machine Learning (ICML-11). 2011.```"
   ]
  },
  {
   "cell_type": "code",
   "execution_count": 1,
   "metadata": {
    "collapsed": true
   },
   "outputs": [],
   "source": [
    "import sage\n",
    "from collections import Counter\n",
    "import numpy as np\n",
    "import matplotlib.pyplot as plt\n",
    "%matplotlib inline"
   ]
  },
  {
   "cell_type": "markdown",
   "metadata": {},
   "source": [
    "First we build word count dictionaries from each file"
   ]
  },
  {
   "cell_type": "code",
   "execution_count": 2,
   "metadata": {
    "collapsed": true
   },
   "outputs": [],
   "source": [
    "def getCountDict(filename):\n",
    "    with open(filename) as fin:\n",
    "        return {word:int(count) for word,count in [line.rstrip().split() for line in fin.readlines()]}"
   ]
  },
  {
   "cell_type": "code",
   "execution_count": 3,
   "metadata": {},
   "outputs": [],
   "source": [
    "# counts for author Lydia Maria Child\n",
    "child_counts = getCountDict('underwood-child-counts.tsv')\n",
    "# counts for all 1840s letters in the corpus \n",
    "base_counts = getCountDict('underwood-1840s-let-counts.tsv')"
   ]
  },
  {
   "cell_type": "markdown",
   "metadata": {},
   "source": [
    "Build a vocabulary of the most common terms"
   ]
  },
  {
   "cell_type": "code",
   "execution_count": 4,
   "metadata": {},
   "outputs": [],
   "source": [
    "vocab = [word for word,count in Counter(child_counts).most_common(5000)]"
   ]
  },
  {
   "cell_type": "markdown",
   "metadata": {},
   "source": [
    "Convert the counts into [numpy](http://www.numpy.org/) arrays"
   ]
  },
  {
   "cell_type": "code",
   "execution_count": 37,
   "metadata": {
    "collapsed": true
   },
   "outputs": [],
   "source": [
    "x_child = np.array([child_counts[word] for word in vocab])\n",
    "x_base = np.array([base_counts[word] for word in vocab]) + 1."
   ]
  },
  {
   "cell_type": "markdown",
   "metadata": {},
   "source": [
    "Compute the base log-probabilities of each word"
   ]
  },
  {
   "cell_type": "code",
   "execution_count": 27,
   "metadata": {
    "collapsed": true
   },
   "outputs": [],
   "source": [
    "mu = np.log(x_base) - np.log(x_base.sum())"
   ]
  },
  {
   "cell_type": "markdown",
   "metadata": {},
   "source": [
    "Run SAGE"
   ]
  },
  {
   "cell_type": "code",
   "execution_count": 32,
   "metadata": {},
   "outputs": [],
   "source": [
    "eta = sage.estimate(x_child,mu)"
   ]
  },
  {
   "cell_type": "markdown",
   "metadata": {},
   "source": [
    "Print words that are especially frequent in the writing of Lydia Maria Child, compared to the baseline."
   ]
  },
  {
   "cell_type": "code",
   "execution_count": 34,
   "metadata": {},
   "outputs": [
    {
     "name": "stdout",
     "output_type": "stream",
     "text": [
      "['soul', 'sea', 'heart', 'beauty', 'outward', 'graceful', 'mother', 'souls', 'forth', 'sweet']\n"
     ]
    }
   ],
   "source": [
    "print sage.topK(eta,vocab)"
   ]
  },
  {
   "cell_type": "markdown",
   "metadata": {},
   "source": [
    "Print words that are especially infrequent in her writing, compared to the baseline."
   ]
  },
  {
   "cell_type": "code",
   "execution_count": 35,
   "metadata": {},
   "outputs": [
    {
     "name": "stdout",
     "output_type": "stream",
     "text": [
      "['america', 'xx', 'extent', 'democratic', 'states', 'population', 'parties', 'falls', 'americans', 'timber']\n"
     ]
    }
   ],
   "source": [
    "print sage.topK(-eta,vocab)"
   ]
  },
  {
   "cell_type": "markdown",
   "metadata": {},
   "source": [
    "A histograph of SAGE coefficients. The spike at zero is because SAGE is biased towards sparsity."
   ]
  },
  {
   "cell_type": "code",
   "execution_count": 41,
   "metadata": {},
   "outputs": [
    {
     "data": {
      "image/png": "[encoded data removed]",
      "text/plain": [
       "<matplotlib.figure.Figure at 0x7f52fbf99e50>"
      ]
     },
     "metadata": {},
     "output_type": "display_data"
    }
   ],
   "source": [
    "plt.hist(eta,20);"
   ]
  },
  {
   "cell_type": "code",
   "execution_count": 43,
   "metadata": {},
   "outputs": [
    {
     "data": {
      "image/png": "[encoded data removed]",
      "text/plain": [
       "<matplotlib.figure.Figure at 0x7f52f757ac10>"
      ]
     },
     "metadata": {},
     "output_type": "display_data"
    }
   ],
   "source": [
    "plt.plot(sorted(eta));"
   ]
  }
 ],
 "metadata": {
  "kernelspec": {
   "display_name": "Python 3",
   "language": "python",
   "name": "python3"
  },
  "language_info": {
   "codemirror_mode": {
    "name": "ipython",
    "version": 3
   },
   "file_extension": ".py",
   "mimetype": "text/x-python",
   "name": "python",
   "nbconvert_exporter": "python",
   "pygments_lexer": "ipython3",
   "version": "3.7.1"
  }
 },
 "nbformat": 4,
 "nbformat_minor": 1
}
